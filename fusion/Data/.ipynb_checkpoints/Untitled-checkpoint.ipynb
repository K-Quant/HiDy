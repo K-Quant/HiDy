{
 "cells": [
  {
   "cell_type": "code",
   "execution_count": 1,
   "id": "ad9f9a09",
   "metadata": {},
   "outputs": [],
   "source": [
    "import json\n",
    "import pandas as pd"
   ]
  },
  {
   "cell_type": "code",
   "execution_count": 2,
   "id": "e8386667",
   "metadata": {},
   "outputs": [],
   "source": [
    "result = pd.read_csv(\"final_results.csv\")"
   ]
  },
  {
   "cell_type": "code",
   "execution_count": 4,
   "id": "e0dab930",
   "metadata": {},
   "outputs": [],
   "source": [
    "def exchange_head_tail(idx):\n",
    "    head = result[\"head\"][idx]\n",
    "    result[\"head\"][idx] = result[\"tail\"][idx]\n",
    "    result[\"tail\"][idx] = head\n",
    "    head_code = result[\"head_code\"][idx]\n",
    "    result[\"head_code\"][idx] = result[\"tail_code\"][idx]\n",
    "    result[\"tail_code\"][idx] = head_code\n",
    "    if len(result[\"relation\"][idx]) == 3:\n",
    "        result[\"relation\"][idx] = result[\"relation\"][idx][1:]"
   ]
  },
  {
   "cell_type": "code",
   "execution_count": 5,
   "id": "6c3797f7",
   "metadata": {},
   "outputs": [],
   "source": [
    "for idx in range(len(result)):\n",
    "    if result[\"head_code\"][idx] < result[\"tail_code\"][idx]:\n",
    "        exchange_head_tail(idx)"
   ]
  },
  {
   "cell_type": "code",
   "execution_count": 9,
   "id": "79353c1a",
   "metadata": {},
   "outputs": [],
   "source": [
    "result = result.sort_values(by=\"head_code\" , ascending=True)"
   ]
  },
  {
   "cell_type": "code",
   "execution_count": 11,
   "id": "e7ccd9c9",
   "metadata": {},
   "outputs": [],
   "source": [
    "result.to_csv(\"overall_pipeline.csv\", index=False)"
   ]
  },
  {
   "cell_type": "code",
   "execution_count": null,
   "id": "3f3e3b9a",
   "metadata": {},
   "outputs": [],
   "source": []
  }
 ],
 "metadata": {
  "kernelspec": {
   "display_name": "Python 3",
   "language": "python",
   "name": "python3"
  },
  "language_info": {
   "codemirror_mode": {
    "name": "ipython",
    "version": 3
   },
   "file_extension": ".py",
   "mimetype": "text/x-python",
   "name": "python",
   "nbconvert_exporter": "python",
   "pygments_lexer": "ipython3",
   "version": "3.8.8"
  }
 },
 "nbformat": 4,
 "nbformat_minor": 5
}
